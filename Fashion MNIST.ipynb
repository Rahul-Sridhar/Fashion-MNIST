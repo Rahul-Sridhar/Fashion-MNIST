{
 "cells": [
  {
   "cell_type": "code",
   "execution_count": null,
   "metadata": {
    "_cell_guid": "b1076dfc-b9ad-4769-8c92-a6c4dae69d19",
    "_uuid": "8f2839f25d086af736a60e9eeb907d3b93b6e0e5",
    "collapsed": true
   },
   "outputs": [],
   "source": [
    "# This Python 3 environment comes with many helpful analytics libraries installed\n",
    "# It is defined by the kaggle/python docker image: https://github.com/kaggle/docker-python\n",
    "# For example, here's several helpful packages to load in \n",
    "\n",
    "import numpy as np # linear algebra\n",
    "import pandas as pd # data processing, CSV file I/O (e.g. pd.read_csv)\n",
    "\n",
    "# Input data files are available in the \"../input/\" directory.\n",
    "# For example, running this (by clicking run or pressing Shift+Enter) will list the files in the input directory\n",
    "\n",
    "import os\n",
    "print(os.listdir(\"../input\"))\n",
    "\n",
    "# Any results you write to the current directory are saved as output."
   ]
  },
  {
   "cell_type": "code",
   "execution_count": null,
   "metadata": {
    "_cell_guid": "79c7e3d0-c299-4dcb-8224-4455121ee9b0",
    "_uuid": "d629ff2d2480ee46fbb7e2d37f6b5fab8052498a",
    "collapsed": true
   },
   "outputs": [],
   "source": [
    "import os\n",
    "from __future__ import print_function, division\n",
    "from builtins import range\n",
    "\n",
    "from keras.models import Model, Sequential \n",
    "from keras.layers import Dense, Activation, Conv2D, MaxPooling2D, Flatten, Dropout, BatchNormalization, Input \n",
    "\n",
    "import matplotlib.pyplot as plt\n",
    "import pandas as pd\n",
    "import numpy as np\n",
    "\n",
    "\n",
    "\n",
    "from keras import backend as K"
   ]
  },
  {
   "cell_type": "code",
   "execution_count": null,
   "metadata": {
    "_cell_guid": "776d25fd-bb1c-4937-adf3-4e224cca231e",
    "_uuid": "160dee1111a298650bbda935a6fc0ef5c2b45d00",
    "collapsed": true
   },
   "outputs": [],
   "source": [
    "def one_hot_encoding(Y):\n",
    "    N=len(Y)\n",
    "    K=set(Y)\n",
    "    K=len(K)\n",
    "    I=np.zeros((N, K))\n",
    "    I[np.arange(N), Y]=1\n",
    "    return I"
   ]
  },
  {
   "cell_type": "code",
   "execution_count": null,
   "metadata": {
    "_cell_guid": "260ecb61-bdfd-47ea-9d68-a8f48ffb987a",
    "_uuid": "cf49e2727b91a87cc27def9577ef14d892c23208",
    "collapsed": true
   },
   "outputs": [],
   "source": [
    "data=pd.read_csv(\"../input/fashion-mnist_train.csv\")\n",
    "data=data.as_matrix()\n",
    "np.random.shuffle(data)\n",
    "\n",
    "X=data[:, 1:].reshape(-1, 28, 28, 1)/255.0\n",
    "Y=data[:, 0].astype(np.int32)\n",
    "print(Y.shape[0])"
   ]
  },
  {
   "cell_type": "code",
   "execution_count": null,
   "metadata": {
    "_cell_guid": "f81e8111-6e72-4c1e-962d-a8d51208a8ff",
    "_uuid": "fe344cfd127a61545e55a4b3f691a98c59bc156e",
    "collapsed": true
   },
   "outputs": [],
   "source": [
    "K=set(Y)\n",
    "K=len(K)\n",
    "print(K)"
   ]
  },
  {
   "cell_type": "code",
   "execution_count": null,
   "metadata": {
    "_cell_guid": "6ec310ec-1e21-4edb-b5e0-9f4be1d7d99b",
    "_uuid": "d7d5d95d526ff6d3607271be3fe1792ca2385324",
    "collapsed": true
   },
   "outputs": [],
   "source": [
    "Y=one_hot_encoding(Y)"
   ]
  },
  {
   "cell_type": "code",
   "execution_count": null,
   "metadata": {
    "_cell_guid": "704245f9-ffea-4969-aa42-94020bbe24dc",
    "_uuid": "fcc07b9d39c6e5f504583c82aaf11f116504ed99",
    "collapsed": true
   },
   "outputs": [],
   "source": [
    "#model=Sequential()\n",
    "i=Input(shape=(28, 28, 1))\n",
    "\n",
    "x=Conv2D(filters=32, kernel_size=(3, 3))(i)\n",
    "x=BatchNormalization()(x)\n",
    "x=Activation('relu')(x)\n",
    "x=MaxPooling2D()(x)\n",
    "\n",
    "x=Conv2D(filters=64, kernel_size=(3, 3))(x)\n",
    "x=BatchNormalization()(x)\n",
    "x=Activation('relu')(x)\n",
    "x=MaxPooling2D()(x)\n",
    "\n",
    "\n",
    "x=Conv2D(filters=128, kernel_size=(3, 3))(x)\n",
    "x=BatchNormalization()(x)\n",
    "x=Activation('relu')(x)\n",
    "x=MaxPooling2D()(x)\n",
    "\n",
    "x=Flatten()(x)\n",
    "x=Dense(units=300)(x)\n",
    "x=Activation('relu')(x)\n",
    "x=Dropout(0.2)(x)\n",
    "x=Dense(units=K)(x)\n",
    "x=Activation('softmax')(x)\n",
    "\n",
    "model=Model(inputs=i, outputs=x)"
   ]
  },
  {
   "cell_type": "code",
   "execution_count": null,
   "metadata": {
    "_cell_guid": "17605296-c26f-4c9b-97d7-a662f3bafb34",
    "_uuid": "a678edbf582e66c2688ed9c73049d99e5a0477d2",
    "collapsed": true
   },
   "outputs": [],
   "source": [
    "model.compile(loss='categorical_crossentropy', optimizer='adam', metrics=['accuracy'])"
   ]
  },
  {
   "cell_type": "code",
   "execution_count": null,
   "metadata": {
    "_cell_guid": "1d712cf3-1ea8-4511-af80-afd9847e1b0a",
    "_uuid": "151592568d1ce8118507cb316cb3df3162172dc4",
    "collapsed": true
   },
   "outputs": [],
   "source": [
    "r=model.fit(X, Y, validation_split=0.33, epochs=15, batch_size=32)"
   ]
  },
  {
   "cell_type": "code",
   "execution_count": null,
   "metadata": {
    "_cell_guid": "fb0bdfbf-97f4-4315-ade9-af73479c3bbc",
    "_uuid": "d6ee3a7ed16377985fd6d7e91b2d8a09e7ac81ec",
    "collapsed": true
   },
   "outputs": [],
   "source": [
    "print(\"Returned:\", r)\n",
    "print(r.history.keys())"
   ]
  },
  {
   "cell_type": "code",
   "execution_count": null,
   "metadata": {
    "_cell_guid": "0bc26a81-4924-4c71-929a-2090bfcb9089",
    "_uuid": "500b615b6e55964609e22e9bab838859816f1c60",
    "collapsed": true
   },
   "outputs": [],
   "source": [
    "plt.plot(r.history['loss'], label='loss')\n",
    "plt.plot(r.history['val_loss'], label='val_loss')\n",
    "plt.legend()\n",
    "plt.show()"
   ]
  },
  {
   "cell_type": "code",
   "execution_count": null,
   "metadata": {
    "_cell_guid": "8059dffd-31ae-4efb-84c0-5ecc794e83f1",
    "_uuid": "e83f53c0b344679e29a0fbb176bcc3549d348295",
    "collapsed": true
   },
   "outputs": [],
   "source": [
    "plt.plot(r.history['acc'], label='acc')\n",
    "plt.plot(r.history['val_acc'], label='val_acc')\n",
    "plt.legend()\n",
    "plt.show()"
   ]
  },
  {
   "cell_type": "code",
   "execution_count": null,
   "metadata": {
    "_cell_guid": "daf7bfd5-e415-448f-983b-d43dc1b37b71",
    "_uuid": "0fd4dd546726baef9f3aa828cec58e33af38c70c",
    "collapsed": true
   },
   "outputs": [],
   "source": []
  }
 ],
 "metadata": {
  "kernelspec": {
   "display_name": "Python 3",
   "language": "python",
   "name": "python3"
  },
  "language_info": {
   "codemirror_mode": {
    "name": "ipython",
    "version": 3
   },
   "file_extension": ".py",
   "mimetype": "text/x-python",
   "name": "python",
   "nbconvert_exporter": "python",
   "pygments_lexer": "ipython3",
   "version": "3.6.3"
  }
 },
 "nbformat": 4,
 "nbformat_minor": 1
}
